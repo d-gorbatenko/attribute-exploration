{
 "cells": [
  {
   "cell_type": "code",
   "execution_count": 1,
   "metadata": {},
   "outputs": [],
   "source": [
    "import sklearn\n",
    "import sklearn.datasets\n",
    "import numpy as np\n",
    "import pandas as pd\n",
    "from string import ascii_uppercase as LETTERS\n",
    "from time import time"
   ]
  },
  {
   "cell_type": "code",
   "execution_count": 2,
   "metadata": {},
   "outputs": [],
   "source": [
    "X, y = sklearn.datasets.make_classification(n_samples=int(10e+5), n_features=4, random_state=42)"
   ]
  },
  {
   "cell_type": "code",
   "execution_count": 3,
   "metadata": {},
   "outputs": [],
   "source": [
    "X[:,0] = X[:,0].round()\n",
    "X[:,1] = X[:,1].round()\n",
    "X[:,2] = (X[:,2] > 0) * 1."
   ]
  },
  {
   "cell_type": "code",
   "execution_count": 4,
   "metadata": {},
   "outputs": [],
   "source": [
    "X = pd.DataFrame(X, columns=[\"categorical\", \"ordered\", \"binomial\", \"real\"])"
   ]
  },
  {
   "cell_type": "code",
   "execution_count": 5,
   "metadata": {},
   "outputs": [],
   "source": [
    "X[\"categorical\"] = [LETTERS[int(x)] for x in X[\"categorical\"]]"
   ]
  },
  {
   "cell_type": "code",
   "execution_count": 6,
   "metadata": {},
   "outputs": [],
   "source": [
    "X['y'] = y"
   ]
  },
  {
   "cell_type": "code",
   "execution_count": 7,
   "metadata": {},
   "outputs": [
    {
     "data": {
      "text/html": [
       "<div>\n",
       "<style scoped>\n",
       "    .dataframe tbody tr th:only-of-type {\n",
       "        vertical-align: middle;\n",
       "    }\n",
       "\n",
       "    .dataframe tbody tr th {\n",
       "        vertical-align: top;\n",
       "    }\n",
       "\n",
       "    .dataframe thead th {\n",
       "        text-align: right;\n",
       "    }\n",
       "</style>\n",
       "<table border=\"1\" class=\"dataframe\">\n",
       "  <thead>\n",
       "    <tr style=\"text-align: right;\">\n",
       "      <th></th>\n",
       "      <th>categorical</th>\n",
       "      <th>ordered</th>\n",
       "      <th>binomial</th>\n",
       "      <th>real</th>\n",
       "      <th>y</th>\n",
       "    </tr>\n",
       "  </thead>\n",
       "  <tbody>\n",
       "    <tr>\n",
       "      <th>0</th>\n",
       "      <td>Z</td>\n",
       "      <td>-0.0</td>\n",
       "      <td>0.0</td>\n",
       "      <td>-1.355158</td>\n",
       "      <td>0</td>\n",
       "    </tr>\n",
       "    <tr>\n",
       "      <th>1</th>\n",
       "      <td>C</td>\n",
       "      <td>1.0</td>\n",
       "      <td>0.0</td>\n",
       "      <td>2.145831</td>\n",
       "      <td>1</td>\n",
       "    </tr>\n",
       "    <tr>\n",
       "      <th>2</th>\n",
       "      <td>C</td>\n",
       "      <td>1.0</td>\n",
       "      <td>0.0</td>\n",
       "      <td>1.895324</td>\n",
       "      <td>0</td>\n",
       "    </tr>\n",
       "    <tr>\n",
       "      <th>3</th>\n",
       "      <td>A</td>\n",
       "      <td>-3.0</td>\n",
       "      <td>1.0</td>\n",
       "      <td>-0.798244</td>\n",
       "      <td>1</td>\n",
       "    </tr>\n",
       "    <tr>\n",
       "      <th>4</th>\n",
       "      <td>B</td>\n",
       "      <td>1.0</td>\n",
       "      <td>1.0</td>\n",
       "      <td>1.549485</td>\n",
       "      <td>1</td>\n",
       "    </tr>\n",
       "  </tbody>\n",
       "</table>\n",
       "</div>"
      ],
      "text/plain": [
       "  categorical  ordered  binomial      real  y\n",
       "0           Z     -0.0       0.0 -1.355158  0\n",
       "1           C      1.0       0.0  2.145831  1\n",
       "2           C      1.0       0.0  1.895324  0\n",
       "3           A     -3.0       1.0 -0.798244  1\n",
       "4           B      1.0       1.0  1.549485  1"
      ]
     },
     "execution_count": 7,
     "metadata": {},
     "output_type": "execute_result"
    }
   ],
   "source": [
    "X.head()"
   ]
  },
  {
   "cell_type": "markdown",
   "metadata": {},
   "source": [
    "# Build implication set based on the entire context"
   ]
  },
  {
   "cell_type": "code",
   "execution_count": 8,
   "metadata": {},
   "outputs": [],
   "source": [
    "def detect_class(x, n_ = 5):\n",
    "    n = len(np.unique(x))\n",
    "    if (n < n_) | (type(x[0]) == str):\n",
    "        return \"cat\"\n",
    "    else:\n",
    "        return \"num\""
   ]
  },
  {
   "cell_type": "code",
   "execution_count": 15,
   "metadata": {},
   "outputs": [],
   "source": [
    "def build_implication(x,y,n_=5, tolerance = 0.1):\n",
    "    \"\"\"\n",
    "        Forms x -> y from (x,y)\n",
    "    \"\"\"\n",
    "    \n",
    "    x_c = detect_class(x,n_)\n",
    "    y_c = detect_class(y,n_)\n",
    "    \n",
    "#     print(x_c, y_c)\n",
    "    \n",
    "    X = []\n",
    "    Y = []\n",
    "    U = []\n",
    "    \n",
    "    if (x_c == 'cat') & (y_c == \"cat\"):\n",
    "        for value in list(np.unique(x)):\n",
    "#             print(\"x =\", value, \"-> y in\", list(np.unique(y[np.where(x == value)])))\n",
    "            \n",
    "            X.append(value)\n",
    "            Y.append(list(np.unique(y[np.where(x == value)])))\n",
    "            U.append(0)\n",
    "            \n",
    "    elif (x_c == 'cat') & (y_c == \"num\"):\n",
    "        for value in list(np.unique(x)):\n",
    "#             print(\"x =\", value, \"-> y b/w\", (np.min(y[np.where(x == value)]), np.max(y[np.where(x == value)])))\n",
    "            \n",
    "            X.append(value)\n",
    "            Y.append((np.min(y[np.where(x == value)]), np.max(y[np.where(x == value)])))\n",
    "            U.append(1)\n",
    "            \n",
    "    elif (x_c == 'num') & (y_c == \"cat\"):\n",
    "        min_ = np.min(x)\n",
    "        max_ = np.max(x)\n",
    "        step = (max_ - min_) * tolerance\n",
    "        distinct_values = list(np.arange(min_, max_, step))\n",
    "        d = len(distinct_values)\n",
    "        for i in distinct_values[0:(d-1)]:\n",
    "                    \n",
    "            X.append((i, i + step))\n",
    "            Y.append(list(np.unique(y[np.where((x >= i) & (x < i + step))])))\n",
    "            U.append(3)\n",
    "                    \n",
    "    elif (x_c == 'num') & (y_c == \"num\"):\n",
    "        min_ = np.min(x)\n",
    "        max_ = np.max(x)\n",
    "        step = (max_ - min_) * tolerance\n",
    "        distinct_values = list(np.arange(min_, max_, step))\n",
    "        d = len(distinct_values)\n",
    "        for i in distinct_values[0:(d-1)]:\n",
    "#                     print(\"x in\", (i,j), \"-> y in \", (np.min(y[np.where((x >= i) & (x <= j))]),\n",
    "#                                                           np.max(y[np.where((x >= i) & (x <= j))])))\n",
    "\n",
    "            X.append((i,i + step))\n",
    "            Y.append((np.min(y[np.where((x >= i) & (x <= i + step))]),\n",
    "                                                  np.max(y[np.where((x >= i) & (x <= i + step))])))\n",
    "            U.append(4)\n",
    "    \n",
    "#     print(X,Y,U)\n",
    "    return X,Y,U"
   ]
  },
  {
   "cell_type": "code",
   "execution_count": 16,
   "metadata": {},
   "outputs": [],
   "source": [
    "def implications(X):\n",
    "    x_ = {}\n",
    "    y_ = {}\n",
    "    u_ = {}\n",
    "    for i in np.arange(X.shape[1]):\n",
    "        for j in np.arange(X.shape[1]):\n",
    "            if i != j:\n",
    "#                 print(i,j)\n",
    "                x,y,u = build_implication(X.values[:,i],X.values[:,j],10)\n",
    "                x_[str(X.columns[i])+str(X.columns[j])] = x\n",
    "                y_[str(X.columns[i])+str(X.columns[j])] = y\n",
    "                u_[str(X.columns[i])+str(X.columns[j])] = u\n",
    "                \n",
    "    return x_, y_, u_"
   ]
  },
  {
   "cell_type": "markdown",
   "metadata": {},
   "source": [
    "# Test performance"
   ]
  },
  {
   "cell_type": "code",
   "execution_count": 17,
   "metadata": {
    "scrolled": true
   },
   "outputs": [
    {
     "data": {
      "text/html": [
       "<div>\n",
       "<style scoped>\n",
       "    .dataframe tbody tr th:only-of-type {\n",
       "        vertical-align: middle;\n",
       "    }\n",
       "\n",
       "    .dataframe tbody tr th {\n",
       "        vertical-align: top;\n",
       "    }\n",
       "\n",
       "    .dataframe thead th {\n",
       "        text-align: right;\n",
       "    }\n",
       "</style>\n",
       "<table border=\"1\" class=\"dataframe\">\n",
       "  <thead>\n",
       "    <tr style=\"text-align: right;\">\n",
       "      <th></th>\n",
       "      <th>n</th>\n",
       "      <th>time</th>\n",
       "    </tr>\n",
       "  </thead>\n",
       "  <tbody>\n",
       "    <tr>\n",
       "      <th>0</th>\n",
       "      <td>0.0</td>\n",
       "      <td>0.000000</td>\n",
       "    </tr>\n",
       "    <tr>\n",
       "      <th>1</th>\n",
       "      <td>10.0</td>\n",
       "      <td>0.007500</td>\n",
       "    </tr>\n",
       "    <tr>\n",
       "      <th>2</th>\n",
       "      <td>100.0</td>\n",
       "      <td>0.010902</td>\n",
       "    </tr>\n",
       "    <tr>\n",
       "      <th>3</th>\n",
       "      <td>1000.0</td>\n",
       "      <td>0.049682</td>\n",
       "    </tr>\n",
       "    <tr>\n",
       "      <th>4</th>\n",
       "      <td>10000.0</td>\n",
       "      <td>0.433128</td>\n",
       "    </tr>\n",
       "    <tr>\n",
       "      <th>5</th>\n",
       "      <td>100000.0</td>\n",
       "      <td>4.846247</td>\n",
       "    </tr>\n",
       "    <tr>\n",
       "      <th>6</th>\n",
       "      <td>500000.0</td>\n",
       "      <td>28.391038</td>\n",
       "    </tr>\n",
       "    <tr>\n",
       "      <th>7</th>\n",
       "      <td>1000000.0</td>\n",
       "      <td>62.139521</td>\n",
       "    </tr>\n",
       "    <tr>\n",
       "      <th>8</th>\n",
       "      <td>2000000.0</td>\n",
       "      <td>137.811240</td>\n",
       "    </tr>\n",
       "    <tr>\n",
       "      <th>9</th>\n",
       "      <td>5000000.0</td>\n",
       "      <td>344.746398</td>\n",
       "    </tr>\n",
       "  </tbody>\n",
       "</table>\n",
       "</div>"
      ],
      "text/plain": [
       "           n        time\n",
       "0        0.0    0.000000\n",
       "1       10.0    0.007500\n",
       "2      100.0    0.010902\n",
       "3     1000.0    0.049682\n",
       "4    10000.0    0.433128\n",
       "5   100000.0    4.846247\n",
       "6   500000.0   28.391038\n",
       "7  1000000.0   62.139521\n",
       "8  2000000.0  137.811240\n",
       "9  5000000.0  344.746398"
      ]
     },
     "execution_count": 17,
     "metadata": {},
     "output_type": "execute_result"
    }
   ],
   "source": [
    "df = pd.DataFrame({\"n\":[0], \"time\":[0]})\n",
    "for n in [10, 100, 10**3, 10**4, 10**5, 5 * 10**5, 10**6, 2 * 10**6, 5 * 10**6]:\n",
    "    for _ in np.arange(1):\n",
    "#         print(n)\n",
    "        X_ = X.iloc[np.random.uniform(low = 0, high = X.shape[0], size = n).astype('int')]\n",
    "        t_start = time()\n",
    "        implications(pd.DataFrame(X_))\n",
    "        elapsed_time = time() - t_start\n",
    "        df = df.append({\"n\":n, \"time\":elapsed_time}, ignore_index=True)\n",
    "df"
   ]
  },
  {
   "cell_type": "code",
   "execution_count": 18,
   "metadata": {},
   "outputs": [],
   "source": [
    "import matplotlib.pyplot as plt\n",
    "%matplotlib inline"
   ]
  },
  {
   "cell_type": "code",
   "execution_count": 19,
   "metadata": {},
   "outputs": [
    {
     "name": "stderr",
     "output_type": "stream",
     "text": [
      "/Users/dmitry/anaconda3/lib/python3.6/site-packages/ipykernel_launcher.py:1: RuntimeWarning: divide by zero encountered in log10\n",
      "  \"\"\"Entry point for launching an IPython kernel.\n"
     ]
    },
    {
     "data": {
      "text/plain": [
       "<matplotlib.collections.PathCollection at 0x110644748>"
      ]
     },
     "execution_count": 19,
     "metadata": {},
     "output_type": "execute_result"
    },
    {
     "data": {
      "image/png": "[encoded data removed]",
      "text/plain": [
       "<Figure size 432x288 with 1 Axes>"
      ]
     },
     "metadata": {},
     "output_type": "display_data"
    }
   ],
   "source": [
    "plt.scatter(x = np.log10(df.n.values), y = df.time.values, )"
   ]
  },
  {
   "cell_type": "markdown",
   "metadata": {},
   "source": [
    "# Attribute exploration"
   ]
  },
  {
   "cell_type": "code",
   "execution_count": 20,
   "metadata": {},
   "outputs": [],
   "source": [
    "def find_first(item, vec):\n",
    "    \"\"\"return the index of the first occurence of item in vec\"\"\"\n",
    "    for i in range(len(vec)):\n",
    "        if item == vec[i]:\n",
    "            return i\n",
    "    return -1\n",
    "\n",
    "def find_first_range(lower, upper, vec):\n",
    "    \"\"\"return the index of the first occurence of item which >= lower and < upper in vec\"\"\"\n",
    "    for i in range(len(vec)):\n",
    "        if lower <= vec[i]:\n",
    "            if upper > vec[i]:\n",
    "                return i\n",
    "    return -1\n",
    "\n"
   ]
  },
  {
   "cell_type": "code",
   "execution_count": 24,
   "metadata": {},
   "outputs": [],
   "source": [
    "def build_and_validate_implication(x, y, x1, y1, n_=5, tolerance = 0.1):\n",
    "    \"\"\"\n",
    "        Forms x -> y from (x,y)\n",
    "    \"\"\"\n",
    "    \n",
    "    x_c = detect_class(x,n_)\n",
    "    y_c = detect_class(y,n_)\n",
    "    \n",
    "#     print(x_c, y_c)\n",
    "    \n",
    "    X = []\n",
    "    Y = []\n",
    "    U = []\n",
    "    \n",
    "    if (x_c == 'cat') & (y_c == \"cat\"):\n",
    "        y1_vals = set(np.unique(y1))\n",
    "        for value in list(np.unique(x)):\n",
    "#             print(\"x =\", value, \"-> y in\", list(np.unique(y[np.where(x == value)])))\n",
    "\n",
    "            y_vals = list(np.unique(y[np.where(x == value)]))\n",
    "            verified = False\n",
    "            for i in y1_vals - set(y_vals):\n",
    "                if not verified:\n",
    "                    a = find_first(i, y1[np.where(x1==value)])\n",
    "#                     print(a)\n",
    "                    verified = a >= 0\n",
    "                else:\n",
    "                    continue\n",
    "            \n",
    "            if not verified:\n",
    "                X.append(value)\n",
    "                Y.append(y_vals)\n",
    "                U.append(0)\n",
    "            \n",
    "    elif (x_c == 'cat') & (y_c == \"num\"):\n",
    "        for value in list(np.unique(x)):\n",
    "#             print(\"x =\", value, \"-> y b/w\", (np.min(y[np.where(x == value)]), np.max(y[np.where(x == value)])))\n",
    "            \n",
    "            min_, max_ = (np.min(y[np.where(x == value)]), np.max(y[np.where(x == value)]))\n",
    "        \n",
    "            verified = False\n",
    "            \n",
    "            a = find_first_range(min_, max_, y1[np.where(x1==value)])\n",
    "            verified = a >= 0\n",
    "                        \n",
    "            if not verified:\n",
    "                X.append(value)\n",
    "                Y.append((min_, max_))\n",
    "                U.append(1)\n",
    "            \n",
    "    elif (x_c == 'num') & (y_c == \"cat\"):\n",
    "        min_ = np.min(x)\n",
    "        max_ = np.max(x)\n",
    "        step = (max_ - min_) * tolerance\n",
    "        distinct_values = list(np.arange(min_, max_, step))\n",
    "        d = len(distinct_values)\n",
    "        \n",
    "        y1_vals = set(np.unique(y1))\n",
    "        \n",
    "        for i in distinct_values[0:(d-1)]:\n",
    "            \n",
    "            y_vals = list(np.unique(y[np.where((x >= i) & (x < i + step))]))\n",
    "            verified = False\n",
    "            for j in y1_vals - set(y_vals):\n",
    "                if not verified:\n",
    "                    a = find_first(j, y1[np.where((x1 >= i) & (x1 < i + step))])\n",
    "#                     print(a, i, i + step, j)\n",
    "                    verified = a >= 0\n",
    "                else:\n",
    "                    continue\n",
    "                \n",
    "            if not verified:        \n",
    "                X.append((i, i + step))\n",
    "                Y.append(y_vals)\n",
    "                U.append(3)\n",
    "                    \n",
    "    elif (x_c == 'num') & (y_c == \"num\"):\n",
    "        min_ = np.min(x)\n",
    "        max_ = np.max(x)\n",
    "        step = (max_ - min_) * tolerance\n",
    "        distinct_values = list(np.arange(min_, max_, step))\n",
    "        d = len(distinct_values)\n",
    "        for i in distinct_values[0:(d-1)]:\n",
    "#                     print(\"x in\", (i,j), \"-> y in \", (np.min(y[np.where((x >= i) & (x <= j))]),\n",
    "#                                                           np.max(y[np.where((x >= i) & (x <= j))])))\n",
    "            min_, max_ = (np.min(y[np.where((x >= i) & (x <= i + step))]),\n",
    "                                                  np.max(y[np.where((x >= i) & (x <= i + step))]))\n",
    "            y_vals = list(np.unique(y[np.where((x >= i) & (x < i + step))]))\n",
    "            \n",
    "            a = find_first_range(min_,max_, y1[np.where((x1 >= i) & (x1 < i + step))])\n",
    "            verified = a >= 0\n",
    "            \n",
    "            if not verified:\n",
    "                X.append((i,i + step))\n",
    "                Y.append((min_, max_))\n",
    "                U.append(4)\n",
    "    \n",
    "#     print(X,Y,U)\n",
    "    return X,Y,U"
   ]
  },
  {
   "cell_type": "code",
   "execution_count": 25,
   "metadata": {},
   "outputs": [],
   "source": [
    "def implications_verified(X, X1):\n",
    "    x_ = {}\n",
    "    y_ = {}\n",
    "    u_ = {}\n",
    "    for i in np.arange(X.shape[1]):\n",
    "        for j in np.arange(X.shape[1]):\n",
    "            if i != j:\n",
    "#                 print(i,j)\n",
    "                x,y,u = build_and_validate_implication(X.values[:,i],X.values[:,j],X1.values[:,i],X1.values[:,j],10)\n",
    "                x_[str(X.columns[i])+str(X.columns[j])] = x\n",
    "                y_[str(X.columns[i])+str(X.columns[j])] = y\n",
    "                u_[str(X.columns[i])+str(X.columns[j])] = u\n",
    "                \n",
    "    return x_, y_, u_"
   ]
  },
  {
   "cell_type": "markdown",
   "metadata": {},
   "source": [
    "# Test performance"
   ]
  },
  {
   "cell_type": "code",
   "execution_count": 26,
   "metadata": {},
   "outputs": [
    {
     "data": {
      "text/html": [
       "<div>\n",
       "<style scoped>\n",
       "    .dataframe tbody tr th:only-of-type {\n",
       "        vertical-align: middle;\n",
       "    }\n",
       "\n",
       "    .dataframe tbody tr th {\n",
       "        vertical-align: top;\n",
       "    }\n",
       "\n",
       "    .dataframe thead th {\n",
       "        text-align: right;\n",
       "    }\n",
       "</style>\n",
       "<table border=\"1\" class=\"dataframe\">\n",
       "  <thead>\n",
       "    <tr style=\"text-align: right;\">\n",
       "      <th></th>\n",
       "      <th>n</th>\n",
       "      <th>time</th>\n",
       "    </tr>\n",
       "  </thead>\n",
       "  <tbody>\n",
       "    <tr>\n",
       "      <th>0</th>\n",
       "      <td>0.0</td>\n",
       "      <td>0.000000</td>\n",
       "    </tr>\n",
       "    <tr>\n",
       "      <th>1</th>\n",
       "      <td>10.0</td>\n",
       "      <td>0.405126</td>\n",
       "    </tr>\n",
       "    <tr>\n",
       "      <th>2</th>\n",
       "      <td>100.0</td>\n",
       "      <td>0.402403</td>\n",
       "    </tr>\n",
       "    <tr>\n",
       "      <th>3</th>\n",
       "      <td>1000.0</td>\n",
       "      <td>0.430784</td>\n",
       "    </tr>\n",
       "    <tr>\n",
       "      <th>4</th>\n",
       "      <td>10000.0</td>\n",
       "      <td>0.612242</td>\n",
       "    </tr>\n",
       "    <tr>\n",
       "      <th>5</th>\n",
       "      <td>100000.0</td>\n",
       "      <td>2.721456</td>\n",
       "    </tr>\n",
       "    <tr>\n",
       "      <th>6</th>\n",
       "      <td>500000.0</td>\n",
       "      <td>13.677038</td>\n",
       "    </tr>\n",
       "    <tr>\n",
       "      <th>7</th>\n",
       "      <td>1000000.0</td>\n",
       "      <td>28.113139</td>\n",
       "    </tr>\n",
       "    <tr>\n",
       "      <th>8</th>\n",
       "      <td>2000000.0</td>\n",
       "      <td>57.227460</td>\n",
       "    </tr>\n",
       "    <tr>\n",
       "      <th>9</th>\n",
       "      <td>5000000.0</td>\n",
       "      <td>146.169059</td>\n",
       "    </tr>\n",
       "  </tbody>\n",
       "</table>\n",
       "</div>"
      ],
      "text/plain": [
       "           n        time\n",
       "0        0.0    0.000000\n",
       "1       10.0    0.405126\n",
       "2      100.0    0.402403\n",
       "3     1000.0    0.430784\n",
       "4    10000.0    0.612242\n",
       "5   100000.0    2.721456\n",
       "6   500000.0   13.677038\n",
       "7  1000000.0   28.113139\n",
       "8  2000000.0   57.227460\n",
       "9  5000000.0  146.169059"
      ]
     },
     "execution_count": 26,
     "metadata": {},
     "output_type": "execute_result"
    }
   ],
   "source": [
    "df1 = pd.DataFrame({\"n\":[0], \"time\":[0]}) # 10000\n",
    "for n in [10, 100, 10**3, 10**4, 10**5, 5 * 10**5, 10**6, 2 * 10**6, 5 * 10**6]:\n",
    "    for _ in np.arange(1):\n",
    "#         print(n)\n",
    "        X_ = X.iloc[np.random.uniform(low = 0, high = X.shape[0], size = n).astype('int')]\n",
    "        X__ = X_.iloc[np.random.uniform(low = 0, high = X_.shape[0], size = 10**4).astype('int')]\n",
    "        t_start = time()\n",
    "        implications_verified(pd.DataFrame(X__), pd.DataFrame(X_))\n",
    "        elapsed_time = time() - t_start\n",
    "        df1 = df1.append({\"n\":n, \"time\":elapsed_time}, ignore_index=True)\n",
    "df1"
   ]
  },
  {
   "cell_type": "code",
   "execution_count": 201,
   "metadata": {},
   "outputs": [
    {
     "name": "stderr",
     "output_type": "stream",
     "text": [
      "/Users/dmitry/anaconda3/lib/python3.6/site-packages/ipykernel_launcher.py:1: RuntimeWarning: divide by zero encountered in log10\n",
      "  \"\"\"Entry point for launching an IPython kernel.\n"
     ]
    },
    {
     "data": {
      "text/plain": [
       "<matplotlib.collections.PathCollection at 0x1a19b247f0>"
      ]
     },
     "execution_count": 201,
     "metadata": {},
     "output_type": "execute_result"
    },
    {
     "data": {
      "image/png": "[encoded data removed]",
      "text/plain": [
       "<Figure size 432x288 with 1 Axes>"
      ]
     },
     "metadata": {},
     "output_type": "display_data"
    }
   ],
   "source": [
    "plt.scatter(x = np.log10(df1.n.values), y = df1.time.values, )"
   ]
  },
  {
   "cell_type": "markdown",
   "metadata": {},
   "source": [
    "# Compare performance"
   ]
  },
  {
   "cell_type": "code",
   "execution_count": 34,
   "metadata": {},
   "outputs": [
    {
     "data": {
      "text/html": [
       "<div>\n",
       "<style scoped>\n",
       "    .dataframe tbody tr th:only-of-type {\n",
       "        vertical-align: middle;\n",
       "    }\n",
       "\n",
       "    .dataframe tbody tr th {\n",
       "        vertical-align: top;\n",
       "    }\n",
       "\n",
       "    .dataframe thead th {\n",
       "        text-align: right;\n",
       "    }\n",
       "</style>\n",
       "<table border=\"1\" class=\"dataframe\">\n",
       "  <thead>\n",
       "    <tr style=\"text-align: right;\">\n",
       "      <th></th>\n",
       "      <th>n</th>\n",
       "      <th>time_x</th>\n",
       "      <th>time_y</th>\n",
       "    </tr>\n",
       "  </thead>\n",
       "  <tbody>\n",
       "    <tr>\n",
       "      <th>0</th>\n",
       "      <td>0.0</td>\n",
       "      <td>0.000000</td>\n",
       "      <td>0.000000</td>\n",
       "    </tr>\n",
       "    <tr>\n",
       "      <th>1</th>\n",
       "      <td>10.0</td>\n",
       "      <td>0.007500</td>\n",
       "      <td>0.405126</td>\n",
       "    </tr>\n",
       "    <tr>\n",
       "      <th>2</th>\n",
       "      <td>100.0</td>\n",
       "      <td>0.010902</td>\n",
       "      <td>0.402403</td>\n",
       "    </tr>\n",
       "    <tr>\n",
       "      <th>3</th>\n",
       "      <td>1000.0</td>\n",
       "      <td>0.049682</td>\n",
       "      <td>0.430784</td>\n",
       "    </tr>\n",
       "    <tr>\n",
       "      <th>4</th>\n",
       "      <td>10000.0</td>\n",
       "      <td>0.433128</td>\n",
       "      <td>0.612242</td>\n",
       "    </tr>\n",
       "    <tr>\n",
       "      <th>5</th>\n",
       "      <td>100000.0</td>\n",
       "      <td>4.846247</td>\n",
       "      <td>2.721456</td>\n",
       "    </tr>\n",
       "    <tr>\n",
       "      <th>6</th>\n",
       "      <td>500000.0</td>\n",
       "      <td>28.391038</td>\n",
       "      <td>13.677038</td>\n",
       "    </tr>\n",
       "    <tr>\n",
       "      <th>7</th>\n",
       "      <td>1000000.0</td>\n",
       "      <td>62.139521</td>\n",
       "      <td>28.113139</td>\n",
       "    </tr>\n",
       "    <tr>\n",
       "      <th>8</th>\n",
       "      <td>2000000.0</td>\n",
       "      <td>137.811240</td>\n",
       "      <td>57.227460</td>\n",
       "    </tr>\n",
       "    <tr>\n",
       "      <th>9</th>\n",
       "      <td>5000000.0</td>\n",
       "      <td>344.746398</td>\n",
       "      <td>146.169059</td>\n",
       "    </tr>\n",
       "  </tbody>\n",
       "</table>\n",
       "</div>"
      ],
      "text/plain": [
       "           n      time_x      time_y\n",
       "0        0.0    0.000000    0.000000\n",
       "1       10.0    0.007500    0.405126\n",
       "2      100.0    0.010902    0.402403\n",
       "3     1000.0    0.049682    0.430784\n",
       "4    10000.0    0.433128    0.612242\n",
       "5   100000.0    4.846247    2.721456\n",
       "6   500000.0   28.391038   13.677038\n",
       "7  1000000.0   62.139521   28.113139\n",
       "8  2000000.0  137.811240   57.227460\n",
       "9  5000000.0  344.746398  146.169059"
      ]
     },
     "execution_count": 34,
     "metadata": {},
     "output_type": "execute_result"
    }
   ],
   "source": [
    "df2 = df.merge(df1, on=\"n\")\n",
    "df2"
   ]
  },
  {
   "cell_type": "code",
   "execution_count": 56,
   "metadata": {},
   "outputs": [
    {
     "data": {
      "text/plain": [
       "<Figure size 1440x576 with 0 Axes>"
      ]
     },
     "metadata": {},
     "output_type": "display_data"
    },
    {
     "data": {
      "image/png": "[encoded data removed]",
      "text/plain": [
       "<Figure size 1440x504 with 1 Axes>"
      ]
     },
     "metadata": {},
     "output_type": "display_data"
    }
   ],
   "source": [
    "plt.figure(figsize=(20,8))\n",
    "\n",
    "fig, ax = plt.subplots(figsize=(20,7))\n",
    "\n",
    "\n",
    "ax.plot(df2.set_index('n')['time_x'], color = 'r', linewidth=5, label = \"without exploration\")\n",
    "ax.plot(df2.set_index('n')['time_y'], color = 'b', linewidth=5, label = \"attribute exploration\")\n",
    "\n",
    "ax.legend(fontsize = 20)\n",
    "\n",
    "plt.xlabel(\"Number of observations\", fontsize = 20)\n",
    "plt.ylabel(\"Time, seconds\", fontsize = 20)\n",
    "\n",
    "plt.show()"
   ]
  },
  {
   "cell_type": "code",
   "execution_count": 60,
   "metadata": {},
   "outputs": [
    {
     "name": "stderr",
     "output_type": "stream",
     "text": [
      "No handles with labels found to put in legend.\n"
     ]
    },
    {
     "data": {
      "text/plain": [
       "<Figure size 1440x576 with 0 Axes>"
      ]
     },
     "metadata": {},
     "output_type": "display_data"
    },
    {
     "data": {
      "image/png": "[encoded data removed]",
      "text/plain": [
       "<Figure size 1440x504 with 1 Axes>"
      ]
     },
     "metadata": {},
     "output_type": "display_data"
    }
   ],
   "source": [
    "plt.figure(figsize=(20,8))\n",
    "\n",
    "fig, ax = plt.subplots(figsize=(20,7))\n",
    "\n",
    "\n",
    "ax.plot(df2.set_index('n')['time_x'] / df2.set_index('n')['time_y'], color = 'r', linewidth=5)\n",
    "# ax.plot(df2.set_index('n')['time_y'], color = 'b', linewidth=5, label = \"attribute exploration\")\n",
    "\n",
    "ax.legend(fontsize = 20)\n",
    "\n",
    "plt.xlabel(\"Number of observations\", fontsize = 20)\n",
    "plt.ylabel(\"Relative speed\", fontsize = 20)\n",
    "\n",
    "plt.show()"
   ]
  },
  {
   "cell_type": "code",
   "execution_count": null,
   "metadata": {},
   "outputs": [],
   "source": []
  }
 ],
 "metadata": {
  "kernelspec": {
   "display_name": "Python 3",
   "language": "python",
   "name": "python3"
  },
  "language_info": {
   "codemirror_mode": {
    "name": "ipython",
    "version": 3
   },
   "file_extension": ".py",
   "mimetype": "text/x-python",
   "name": "python",
   "nbconvert_exporter": "python",
   "pygments_lexer": "ipython3",
   "version": "3.6.5"
  }
 },
 "nbformat": 4,
 "nbformat_minor": 2
}
